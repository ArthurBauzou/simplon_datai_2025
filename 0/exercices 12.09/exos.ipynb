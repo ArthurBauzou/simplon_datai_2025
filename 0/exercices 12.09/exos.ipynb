{
 "cells": [
  {
   "cell_type": "markdown",
   "metadata": {},
   "source": [
    "1. Écrivez un programme qui demande à l'utilisateur de saisir un nombre entier positif et affiche tous les nombres de 1 jusqu'à ce nombre (inclus)."
   ]
  },
  {
   "cell_type": "code",
   "execution_count": null,
   "metadata": {},
   "outputs": [],
   "source": [
    "number = input(\"Entrez un entier positif 😎 :\")\n",
    "for n in range(int(number)) :\n",
    "    print(n+1)"
   ]
  },
  {
   "cell_type": "markdown",
   "metadata": {},
   "source": [
    "2. Écrivez une fonction qui prend une liste de nombres en entrée et renvoie une nouvelle liste contenant uniquement les nombres positifs."
   ]
  },
  {
   "cell_type": "code",
   "execution_count": null,
   "metadata": {},
   "outputs": [],
   "source": [
    "test_list = [\n",
    "    1,2,4,8,-7,-56,-2,0,96,457,5.8,4/3,-6.66\n",
    "]\n",
    "\n",
    "def only_pos(number_list:list) :\n",
    "    res = []\n",
    "    for number in number_list :\n",
    "        if number > 0 : res.append(number)\n",
    "\n",
    "    return res\n",
    "\n",
    "def only_pos_comprehension(number_list:list) :\n",
    "    res = [n for n in number_list if n > 0]\n",
    "    return res\n",
    "\n",
    "print(only_pos_comprehension(test_list))"
   ]
  },
  {
   "cell_type": "markdown",
   "metadata": {},
   "source": [
    "3. Écrivez une fonction qui prend une liste de mots en entrée et renvoie une nouvelle liste contenant les mots dont la première lettre est une voyelle (a, e, i, o, u, y)."
   ]
  },
  {
   "cell_type": "code",
   "execution_count": null,
   "metadata": {},
   "outputs": [],
   "source": [
    "test_list = [\n",
    "    \"poire\",\n",
    "    \"cochon\",\n",
    "    \"ananas\",\n",
    "    \"Gâteau\",\n",
    "    \"Ardoise\",\n",
    "    \"Oursin\",\n",
    "    \"Écran\",\n",
    "    \"ukulele\",\n",
    "    \"tupperware\",\n",
    "    \"oiseau\",\n",
    "    \"macaron\",\n",
    "    \"œuf\",\n",
    "    \"Âtre\"\n",
    "]\n",
    "\n",
    "def only_vowel(word_list:list):\n",
    "    res = []\n",
    "    vowels = (\"a\",\"e\",\"i\",\"o\",\"u\",\"y\",\"à\",\"é\",\"è\",\"ê\",\"œ\",\"ï\",\"â\")\n",
    "    for word in word_list :\n",
    "        if word[0].lower() in vowels : res.append(word)\n",
    "\n",
    "    return res\n",
    "\n",
    "print(only_vowel(test_list))"
   ]
  },
  {
   "cell_type": "markdown",
   "metadata": {},
   "source": [
    "4. Écrivez une fonction qui prend un nombre entier en entrée et affiche si ce nombre est positif, négatif ou nul."
   ]
  },
  {
   "cell_type": "code",
   "execution_count": null,
   "metadata": {},
   "outputs": [],
   "source": [
    "def define_number_nature() :\n",
    "    number = input(\"entrez un nombre et soyez créatifs 🌈 :\")\n",
    "    number = eval(number)\n",
    "    if number == 0 : print(\"c’est NUL !! (╯°□°）╯︵ ┻━┻\")\n",
    "    elif number > 0 : print(\"C’est très positif 🤩\")\n",
    "    else : print(\"Négatif 😶\")\n",
    "\n",
    "define_number_nature()"
   ]
  },
  {
   "cell_type": "markdown",
   "metadata": {},
   "source": [
    "5. Écrivez un programme qui demande à l'utilisateur de saisir un mot et affiche si ce mot contient plus de 5 caractères."
   ]
  },
  {
   "cell_type": "code",
   "execution_count": null,
   "metadata": {},
   "outputs": [],
   "source": [
    "word = input(\"entrez un mot 😤 : \\n\")\n",
    "if len(word) > 5 : print(\"Ça va pas d’écrire des mots si longs ?\")"
   ]
  },
  {
   "cell_type": "markdown",
   "metadata": {},
   "source": [
    "6. Écrivez un programme qui demande à l'utilisateur de saisir 5 nombres entiers, acquisition clavier, les stocke dans une liste, puis affiche la liste."
   ]
  },
  {
   "cell_type": "code",
   "execution_count": null,
   "metadata": {},
   "outputs": [],
   "source": [
    "number_list = []\n",
    "verbose = [\n",
    "    \"premier\",\n",
    "    \"second\",\n",
    "    \"troisième\",\n",
    "    \"quatrième\",\n",
    "]\n",
    "res = []\n",
    "for i in range(5) :\n",
    "    valid = False\n",
    "    while not valid :\n",
    "        if i < 4 :  number = input(f\"entrez un {verbose[i]} nombre entier : \")\n",
    "        else :      number = input(\"enfin, entrez le dernier nombre entier : \")\n",
    "\n",
    "        try :\n",
    "            number = int(number)\n",
    "            valid = True\n",
    "            res.append(number)\n",
    "        except : \n",
    "            print(\"non, ça n’est pas un nombre entier\")\n",
    "\n",
    "print(res)"
   ]
  },
  {
   "cell_type": "markdown",
   "metadata": {},
   "source": [
    "7. Écrivez une fonction qui prend une liste de nombres en entrée et renvoie la somme de tous les éléments de la liste."
   ]
  },
  {
   "cell_type": "code",
   "execution_count": null,
   "metadata": {},
   "outputs": [],
   "source": [
    "num_list = [n for n in range(100) if n%3 == 0 ]\n",
    "\n",
    "def sum_of(number_list:list[int]) :\n",
    "    res = 0\n",
    "    for n in number_list :\n",
    "        res += n\n",
    "\n",
    "    return res\n",
    "\n",
    "print(sum_of(num_list))"
   ]
  },
  {
   "cell_type": "markdown",
   "metadata": {},
   "source": [
    "8. Écrivez une fonction qui prend une liste de mots en entrée et renvoie une nouvelle liste contenant la longueur de chaque mot."
   ]
  },
  {
   "cell_type": "code",
   "execution_count": null,
   "metadata": {},
   "outputs": [],
   "source": [
    "test_list = [\n",
    "    \"poire\",\n",
    "    \"cochon\",\n",
    "    \"ananas\",\n",
    "    \"Gâteau\",\n",
    "    \"Ardoise\",\n",
    "    \"Oursin\",\n",
    "    \"Écran\",\n",
    "    \"ukulele\",\n",
    "    \"tupperware\",\n",
    "    \"oiseau\",\n",
    "    \"macaron\",\n",
    "    \"œuf\",\n",
    "    \"Âtre\"\n",
    "]\n",
    "\n",
    "def list_of_len(word_list:list[str]) :\n",
    "    res = [len(w) for w in word_list]\n",
    "    return res\n",
    "\n",
    "print(list_of_len(test_list))"
   ]
  },
  {
   "cell_type": "markdown",
   "metadata": {},
   "source": [
    "9. Écrivez une fonction qui prend une liste de nombres en entrée et renvoie une nouvelle liste contenant uniquement les nombres pairs de la liste initiale."
   ]
  },
  {
   "cell_type": "code",
   "execution_count": null,
   "metadata": {},
   "outputs": [],
   "source": [
    "num_list = [n for n in range(30) if n%3 == 0 ]\n",
    "\n",
    "def only_even(numlist:list) :\n",
    "    res = [n for n in numlist if n%2 == 0 ]\n",
    "    return res\n",
    "\n",
    "print(only_even(num_list))"
   ]
  },
  {
   "cell_type": "markdown",
   "metadata": {},
   "source": [
    "10. Écrivez un programme qui prend une liste de mots en entrée, acquisition clavier, les trie par ordre alphabétique et affiche la liste triée."
   ]
  },
  {
   "cell_type": "code",
   "execution_count": null,
   "metadata": {},
   "outputs": [],
   "source": [
    "words = input(\"entrez plusieurs mots, séparés par des virgules : \\n\")\n",
    "word_list = words.split(\",\")\n",
    "word_list = [w.strip() for w in word_list]\n",
    "word_list.sort()\n",
    "\n",
    "print(word_list)"
   ]
  },
  {
   "cell_type": "markdown",
   "metadata": {},
   "source": [
    "11. Écrivez un programme qui demande à l'utilisateur de saisir une phrase et affiche le nombre de caractères de cette phrase (en comptant les espaces)."
   ]
  },
  {
   "cell_type": "code",
   "execution_count": null,
   "metadata": {},
   "outputs": [],
   "source": [
    "sentence = input(\"entrez une phrase 🕵️‍♂️ : \\n\")\n",
    "print(len(sentence))"
   ]
  },
  {
   "cell_type": "markdown",
   "metadata": {},
   "source": [
    "12. Écrivez une fonction qui prend une chaîne de caractères en entrée et renvoie cette chaîne inversée."
   ]
  },
  {
   "cell_type": "code",
   "execution_count": null,
   "metadata": {},
   "outputs": [],
   "source": [
    "test_string = \"mieux vaut ne pas mettre un palindrome\"\n",
    "\n",
    "def inverse_string(string:str) :\n",
    "    res = \"\"\n",
    "    lenght = len(string)\n",
    "    for i in range(lenght) :\n",
    "        res += string[lenght-i-1]\n",
    "\n",
    "    return res\n",
    "\n",
    "print(inverse_string(test_string))"
   ]
  },
  {
   "cell_type": "markdown",
   "metadata": {},
   "source": [
    "13. Écrivez une fonction qui prend une chaîne de caractères en entrée et renvoie le nombre de mots dans cette chaîne (un mot est séparé par un espace)."
   ]
  },
  {
   "cell_type": "code",
   "execution_count": null,
   "metadata": {},
   "outputs": [],
   "source": [
    "test_string = \"ceci est une phrase avec des mots (onze, pour être précis)\"\n",
    "\n",
    "def count_words(sentence:str) :\n",
    "    res = len(sentence.split())\n",
    "\n",
    "    return res\n",
    "\n",
    "print(count_words(test_string))"
   ]
  },
  {
   "cell_type": "markdown",
   "metadata": {},
   "source": [
    "14. Écrivez une fonction qui prend une chaîne de caractères en entrée et renvoie une nouvelle chaîne où chaque mot est en majuscules."
   ]
  },
  {
   "cell_type": "code",
   "execution_count": null,
   "metadata": {},
   "outputs": [],
   "source": [
    "test_string = \"ceci est une phrase avec des mots (onze, pour être précis)\"\n",
    "\n",
    "def capitalize_words(sentence:str) :\n",
    "    res = sentence.upper()\n",
    "\n",
    "    return res\n",
    "\n",
    "print(capitalize_words(test_string))"
   ]
  },
  {
   "cell_type": "markdown",
   "metadata": {},
   "source": [
    "15. Écrivez une fonction qui prend une chaîne de caractères en entrée et renvoie True si cette chaîne est un palindrome (c'est-à-dire qu'elle se lit de la même manière de gauche à droite et de droite à gauche), sinon renvoie False."
   ]
  },
  {
   "cell_type": "code",
   "execution_count": null,
   "metadata": {},
   "outputs": [],
   "source": [
    "test_string = \"mieux vaut ne pas mettre un palindrome\"\n",
    "pal_string = \"Ésope reste ici et se repose\"\n",
    "\n",
    "def normalize(string:str) :\n",
    "    replace_accents = {\n",
    "        'e': ['é', 'è', 'ê', 'ë'],\n",
    "        'a': ['à', 'â'],\n",
    "        'i': ['ï', 'î'],\n",
    "        'u': ['û', 'ù'],\n",
    "        'o': ['ô', 'ö'],\n",
    "        'c': ['ç']\n",
    "    }\n",
    "\n",
    "    res = string.lower()\n",
    "    res = res.replace(' ', '')\n",
    "    for letter, accents in replace_accents.items() :\n",
    "        for accent in accents :\n",
    "            res = res.replace(accent, letter)\n",
    "\n",
    "    return res\n",
    "\n",
    "def test_pal(string:str) :\n",
    "    reverse_str = string[::-1]\n",
    "    reverse_str = normalize(reverse_str)\n",
    "    string = normalize(string)\n",
    "\n",
    "    if reverse_str == string :\n",
    "        return True\n",
    "    else :\n",
    "        return False\n",
    "\n",
    "def test(s) :\n",
    "    if test_pal(s) :\n",
    "        print(f\"« {s} » est un palindrome\")\n",
    "    else :\n",
    "        print(f\"« {s} » n’est pas un palindrome\")\n",
    "\n",
    "test(test_string)\n",
    "test(pal_string)"
   ]
  },
  {
   "cell_type": "markdown",
   "metadata": {},
   "source": [
    "16. Écrivez un programme qui demande à l'utilisateur de deviner un nombre secret (par exemple 42). Le programme indique à l'utilisateur si le nombre à deviner est plus grand ou plus petit que sa proposition et continue de demander un nombre tant que l'utilisateur ne trouve pas le nombre secret. Une fois que l'utilisateur trouve le nombre secret, affichez un message de félicitations."
   ]
  },
  {
   "cell_type": "code",
   "execution_count": null,
   "metadata": {},
   "outputs": [],
   "source": [
    "import random\n",
    "\n",
    "secret_num = random.choice(range(1,1000))\n",
    "win = False\n",
    "print(\"Essayez de deviner à quel entier je pense, entre 1 et 1000 🧙‍♂️ : \\n\")\n",
    "\n",
    "n = 0\n",
    "\n",
    "while not win :\n",
    "    n += 1\n",
    "    guess = input(f\"Essai n° {n} >>>  \")\n",
    "    try :\n",
    "        guess = int(guess)\n",
    "        if guess > secret_num :\n",
    "            print(\"C’est moins ! \\n\")\n",
    "        elif guess < secret_num :\n",
    "            print(\"C’est plus ! \\n\")\n",
    "        else : \n",
    "            print(\"Ouiouiouioui OUIIII !! Vous gagnez une encyclopédie Larousse 🤑 \\n\")\n",
    "            win = True\n",
    "    except : \n",
    "        print(\"non, ça n’est pas un nombre\")"
   ]
  },
  {
   "cell_type": "markdown",
   "metadata": {},
   "source": [
    "17. Écrivez une fonction qui prend un nombre entier en entrée et affiche tous les nombres de 1 jusqu'à ce nombre (inclut) en utilisant une boucle \"while\"."
   ]
  },
  {
   "cell_type": "code",
   "execution_count": null,
   "metadata": {},
   "outputs": [],
   "source": [
    "n = 12\n",
    "\n",
    "def enumerate_to_n(number:int) :\n",
    "    index = 0\n",
    "    while True :\n",
    "        print(range(number)[index]+1)\n",
    "        index += 1\n",
    "        if index == number : break\n",
    "\n",
    "enumerate_to_n(n)"
   ]
  },
  {
   "cell_type": "markdown",
   "metadata": {},
   "source": [
    "18. Écrivez une fonction qui prend une liste de nombres en entrée et renvoie une nouvelle liste contenant uniquement les nombres positifs en utilisant une boucle \"while\". "
   ]
  },
  {
   "cell_type": "code",
   "execution_count": null,
   "metadata": {},
   "outputs": [],
   "source": [
    "test_list = [\n",
    "    1,2,4,8,-7,-56,-2,0,96,457,5.8,4/3,-6.66,64\n",
    "]\n",
    "\n",
    "def only_pos(num_list:list) :\n",
    "    index = 0\n",
    "    res = []\n",
    "    while index < len(num_list) :\n",
    "        if num_list[index] > 0 : res.append(num_list[index])\n",
    "        index += 1\n",
    "\n",
    "    return res\n",
    "\n",
    "print(only_pos(test_list))"
   ]
  },
  {
   "cell_type": "markdown",
   "metadata": {},
   "source": [
    "19. Écrivez une fonction qui prend une liste de mots en entrée et renvoie une nouvelle liste contenant les mots dont la première lettre est une voyelle (a, e, i, o, u, y) en utilisant une boucle \"while\"."
   ]
  },
  {
   "cell_type": "code",
   "execution_count": null,
   "metadata": {},
   "outputs": [],
   "source": [
    "test_list = [\n",
    "    \"poire\",\n",
    "    \"cochon\",\n",
    "    \"ananas\",\n",
    "    \"Gâteau\",\n",
    "    \"Ardoise\",\n",
    "    \"Oursin\",\n",
    "    \"Écran\",\n",
    "    \"ukulele\",\n",
    "    \"tupperware\",\n",
    "    \"oiseau\",\n",
    "    \"Macaron\",\n",
    "    \"œuf\",\n",
    "    \"Âtre\"\n",
    "]\n",
    "\n",
    "def only_vowel(word_list:list):\n",
    "    index = 0\n",
    "    res = []\n",
    "    vowels = (\"a\",\"e\",\"i\",\"o\",\"u\",\"y\",\"à\",\"é\",\"è\",\"ê\",\"œ\",\"ï\",\"â\")\n",
    "    while index < len(word_list) :\n",
    "        if word_list[index][0].lower() in vowels : res.append(word_list[index])\n",
    "        index += 1\n",
    "\n",
    "    return res\n",
    "\n",
    "print(only_vowel(test_list))"
   ]
  },
  {
   "cell_type": "markdown",
   "metadata": {},
   "source": [
    "20. Écrivez un programme qui demande à l'utilisateur de saisir un mot et affiche si ce mot contient plus de 5 caractères en utilisant une boucle \"while\"."
   ]
  },
  {
   "cell_type": "code",
   "execution_count": null,
   "metadata": {},
   "outputs": [],
   "source": [
    "word = input(\"entrez un beau mot (pas un laid mot, cela serait disgracieux) : \\n\")\n",
    "lenght = 0\n",
    "\n",
    "while lenght < len(word) :\n",
    "    lenght += 1\n",
    "\n",
    "if lenght > 5 : print(\"Ce mot est très très très long au moins autant que l’infini peut être même la dette publique française 😪\")"
   ]
  },
  {
   "cell_type": "markdown",
   "metadata": {},
   "source": [
    "21. Écrivez une fonction qui prend un nombre entier en entrée et affiche la suite de Fibonacci jusqu'à l'ordre de ce nombre. La suite de Fibonacci est une séquence d'entiers où chaque nombre est la somme des deux nombres précédents. La séquence commence généralement par 0 et 1."
   ]
  },
  {
   "cell_type": "code",
   "execution_count": null,
   "metadata": {},
   "outputs": [],
   "source": [
    "number = 8\n",
    "\n",
    "def gen_fibo(index_max:int) :\n",
    "    fibo = []\n",
    "    if index_max == 1 : return [0]\n",
    "    if index_max > 1 :\n",
    "        fibo = [0,1]\n",
    "        for i in range(2,number) :\n",
    "            fibo.append(fibo[i-2] + fibo[i-1])\n",
    "\n",
    "    return fibo\n",
    "\n",
    "for n in gen_fibo(number) :\n",
    "    print(n)"
   ]
  },
  {
   "cell_type": "markdown",
   "metadata": {},
   "source": [
    "22. calculer 0.1+0.2 avec python expliquer le résultat. Comment obtenir le résultat souhaité dans ce cas ?"
   ]
  },
  {
   "cell_type": "code",
   "execution_count": null,
   "metadata": {},
   "outputs": [],
   "source": [
    "weird:float = 0.1 + 0.2\n",
    "\n",
    "print(weird)\n",
    "\n",
    "messages = [\n",
    "    \"Ce résultat étrange est généré par la façon dont le binaire fonctionne.\",\n",
    "    \"De la même façon que 1/3 est difficile à noter pour nous qui utilisons un système en base 10,\"\n",
    "    \"pour un ordinateur il est inconfortable de manipuler certaines valeurs car il devra toujours les arrondir?\",\n",
    "    \"Bien sur les ordinateurs sont bien faits et cet artefact ne pose pas de soucis à long terme, c’est juste un\",\n",
    "    \"artefact de notation.\"\n",
    "]\n",
    "    \n",
    "verif = weird + 0.7\n",
    "print(verif)\n",
    "\n",
    "weird_display = round(weird, 1)\n",
    "print(weird_display)"
   ]
  }
 ],
 "metadata": {
  "kernelspec": {
   "display_name": "Python 3",
   "language": "python",
   "name": "python3"
  },
  "language_info": {
   "codemirror_mode": {
    "name": "ipython",
    "version": 3
   },
   "file_extension": ".py",
   "mimetype": "text/x-python",
   "name": "python",
   "nbconvert_exporter": "python",
   "pygments_lexer": "ipython3",
   "version": "3.11.5"
  },
  "orig_nbformat": 4
 },
 "nbformat": 4,
 "nbformat_minor": 2
}
