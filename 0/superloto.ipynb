{
 "cells": [
  {
   "cell_type": "markdown",
   "metadata": {},
   "source": [
    "# Numpy random\n",
    "Faire un générateur de nombre aléatoire pour le loto et l'euromillion.\n",
    "Attention c’est un tirage aléatoire sans remise (c.a.d que la boule trouvée n’est pas remise en jeu) et tous les chiffres ont la même probabilité d’apparaître."
   ]
  },
  {
   "cell_type": "code",
   "execution_count": 12,
   "metadata": {},
   "outputs": [
    {
     "data": {
      "text/plain": [
       "[array([28, 12,  4, 14, 10]), array([6])]"
      ]
     },
     "execution_count": 12,
     "metadata": {},
     "output_type": "execute_result"
    }
   ],
   "source": [
    "import numpy as np\n",
    "\n",
    "def loterie(maxA, nA, maxB, nB):\n",
    "    pool_A = np.arange(1,maxA+1)\n",
    "    pool_B = np.arange(1,maxB+2)\n",
    "\n",
    "    np.random.shuffle(pool_A)\n",
    "    np.random.shuffle(pool_B)\n",
    "\n",
    "    tirage = [pool_A[:nA], pool_B[:nB]]\n",
    "\n",
    "    return tirage\n",
    "\n",
    "# euromillions : 5 numéros entre 1 et 50 ainsi que 2 étoiles numérotées de 1 à 12\n",
    "euro_regles = (50,5,12,2)\n",
    "# loto : 5 numéros entre 1 et 49 ainsi qu’un numero complémentaire de 1 à 10\n",
    "loto_regles = (49,5,10,1)\n",
    "\n",
    "loterie(*loto_regles)"
   ]
  },
  {
   "cell_type": "markdown",
   "metadata": {},
   "source": [
    "Reprenez l’exercice 16 et faites en sorte que le nombre à trouver soit aléatoire et compris entre 1 et 1000: \n",
    "“Écrivez un programme qui demande à l'utilisateur de deviner un nombre secret (par exemple 42). Le programme indique à l'utilisateur si le nombre à deviner est plus grand ou plus petit que sa proposition et continue de demander un nombre tant que l'utilisateur ne trouve pas le nombre secret. Une fois que l'utilisateur trouve le nombre secret, affichez un message de félicitations.”"
   ]
  },
  {
   "cell_type": "code",
   "execution_count": null,
   "metadata": {},
   "outputs": [],
   "source": [
    "import random\n",
    "\n",
    "secret_num = random.choice(range(1,1000))\n",
    "win = False\n",
    "print(\"Essayez de deviner à quel entier je pense, entre 1 et 1000 🧙‍♂️ : \\n\")\n",
    "\n",
    "n = 0\n",
    "\n",
    "while not win :\n",
    "    n += 1\n",
    "    guess = input(f\"Essai n° {n} >>>  \")\n",
    "    try :\n",
    "        guess = int(guess)\n",
    "        if guess > secret_num :\n",
    "            print(\"C’est moins ! \\n\")\n",
    "        elif guess < secret_num :\n",
    "            print(\"C’est plus ! \\n\")\n",
    "        else : \n",
    "            print(\"Ouiouiouioui OUIIII !! Vous gagnez une encyclopédie Larousse 🤑 \\n\")\n",
    "            win = True\n",
    "    except : \n",
    "        print(\"non, ça n’est pas un nombre\")"
   ]
  }
 ],
 "metadata": {
  "kernelspec": {
   "display_name": "base",
   "language": "python",
   "name": "python3"
  },
  "language_info": {
   "codemirror_mode": {
    "name": "ipython",
    "version": 3
   },
   "file_extension": ".py",
   "mimetype": "text/x-python",
   "name": "python",
   "nbconvert_exporter": "python",
   "pygments_lexer": "ipython3",
   "version": "3.11.4"
  },
  "orig_nbformat": 4
 },
 "nbformat": 4,
 "nbformat_minor": 2
}
