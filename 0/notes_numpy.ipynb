{
 "cells": [
  {
   "cell_type": "markdown",
   "metadata": {},
   "source": [
    "#FONCTIONS NUMPY"
   ]
  },
  {
   "cell_type": "code",
   "execution_count": 8,
   "metadata": {},
   "outputs": [],
   "source": [
    "import numpy as np"
   ]
  },
  {
   "cell_type": "code",
   "execution_count": 9,
   "metadata": {},
   "outputs": [
    {
     "data": {
      "text/plain": [
       "array([0. , 0.2, 0.4, 0.6, 0.8, 1. , 1.2, 1.4, 1.6, 1.8, 2. , 2.2, 2.4,\n",
       "       2.6, 2.8, 3. , 3.2, 3.4, 3.6, 3.8, 4. , 4.2, 4.4, 4.6, 4.8, 5. ,\n",
       "       5.2, 5.4, 5.6, 5.8, 6. , 6.2, 6.4, 6.6, 6.8, 7. , 7.2, 7.4, 7.6,\n",
       "       7.8])"
      ]
     },
     "execution_count": 9,
     "metadata": {},
     "output_type": "execute_result"
    }
   ],
   "source": [
    "liste = np.arange(0,8,.2)\n",
    "liste"
   ]
  },
  {
   "cell_type": "code",
   "execution_count": 19,
   "metadata": {},
   "outputs": [
    {
     "name": "stdout",
     "output_type": "stream",
     "text": [
      "–––\n",
      "maximum : 7.800000000000001\n",
      "minimum : 0.0\n",
      "médiane : 3.9000000000000004\n",
      "moyenne : 3.9\n",
      "écrat-type : 2.3086792761230392\n",
      "–––\n",
      "maximum : 3.6593807063845367\n",
      "minimum : -3.56812402559721\n",
      "médiane : 0.03822521087949808\n",
      "moyenne : 0.012487005748448602\n",
      "écrat-type : 0.970717916554293\n"
     ]
    }
   ],
   "source": [
    "signal = np.random.randn(1000)\n",
    "\n",
    "# fonctions = [np.max, np.min, np.median, np.mean, np.std]\n",
    "fonctions = {\n",
    "    \"maximum\" : np.max, \n",
    "    \"minimum\" : np.min, \n",
    "    \"médiane\" : np.median, \n",
    "    \"moyenne\" : np.mean, \n",
    "    \"écrat-type\" : np.std\n",
    "    }\n",
    "\n",
    "def launch_functions(arr):\n",
    "    print(\"–––\")\n",
    "    for name, function in fonctions.items() :\n",
    "        print(name, \":\", function(arr))\n",
    "\n",
    "launch_functions(liste)\n",
    "launch_functions(signal)"
   ]
  },
  {
   "cell_type": "code",
   "execution_count": 1,
   "metadata": {},
   "outputs": [
    {
     "ename": "NameError",
     "evalue": "name 'np' is not defined",
     "output_type": "error",
     "traceback": [
      "\u001b[1;31m---------------------------------------------------------------------------\u001b[0m",
      "\u001b[1;31mNameError\u001b[0m                                 Traceback (most recent call last)",
      "\u001b[1;32mc:\\Users\\poulp\\Desktop\\SIMP01\\simplon_datai_2025\\0\\notes_numpy.ipynb Cell 4\u001b[0m line \u001b[0;36m1\n\u001b[1;32m----> <a href='vscode-notebook-cell:/c%3A/Users/poulp/Desktop/SIMP01/simplon_datai_2025/0/notes_numpy.ipynb#W4sZmlsZQ%3D%3D?line=0'>1</a>\u001b[0m liste_espacee \u001b[39m=\u001b[39m np\u001b[39m.\u001b[39mlinspace(\u001b[39m0\u001b[39m,\u001b[39m8\u001b[39m,\u001b[39m40\u001b[39m)\n\u001b[0;32m      <a href='vscode-notebook-cell:/c%3A/Users/poulp/Desktop/SIMP01/simplon_datai_2025/0/notes_numpy.ipynb#W4sZmlsZQ%3D%3D?line=1'>2</a>\u001b[0m liste_espacee\n",
      "\u001b[1;31mNameError\u001b[0m: name 'np' is not defined"
     ]
    }
   ],
   "source": [
    "liste_espacee = np.linspace(0,8,40)\n",
    "liste_espacee"
   ]
  }
 ],
 "metadata": {
  "kernelspec": {
   "display_name": "Python 3",
   "language": "python",
   "name": "python3"
  },
  "language_info": {
   "codemirror_mode": {
    "name": "ipython",
    "version": 3
   },
   "file_extension": ".py",
   "mimetype": "text/x-python",
   "name": "python",
   "nbconvert_exporter": "python",
   "pygments_lexer": "ipython3",
   "version": "3.11.4"
  },
  "orig_nbformat": 4
 },
 "nbformat": 4,
 "nbformat_minor": 2
}
