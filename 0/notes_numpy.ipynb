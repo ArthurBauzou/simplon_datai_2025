{
 "cells": [
  {
   "cell_type": "markdown",
   "metadata": {},
   "source": [
    "#FONCTIONS NUMPY"
   ]
  },
  {
   "cell_type": "code",
   "execution_count": 8,
   "metadata": {},
   "outputs": [],
   "source": [
    "import numpy as np"
   ]
  },
  {
   "cell_type": "markdown",
   "metadata": {},
   "source": [
    "Création d’un array, les paramètres peuvent être autre que des nombres entiers\n"
   ]
  },
  {
   "cell_type": "code",
   "execution_count": 9,
   "metadata": {},
   "outputs": [
    {
     "data": {
      "text/plain": [
       "array([0. , 0.2, 0.4, 0.6, 0.8, 1. , 1.2, 1.4, 1.6, 1.8, 2. , 2.2, 2.4,\n",
       "       2.6, 2.8, 3. , 3.2, 3.4, 3.6, 3.8, 4. , 4.2, 4.4, 4.6, 4.8, 5. ,\n",
       "       5.2, 5.4, 5.6, 5.8, 6. , 6.2, 6.4, 6.6, 6.8, 7. , 7.2, 7.4, 7.6,\n",
       "       7.8])"
      ]
     },
     "execution_count": 9,
     "metadata": {},
     "output_type": "execute_result"
    }
   ],
   "source": [
    "liste = np.arange(0,8,.2)\n",
    "liste"
   ]
  },
  {
   "cell_type": "code",
   "execution_count": 19,
   "metadata": {},
   "outputs": [
    {
     "name": "stdout",
     "output_type": "stream",
     "text": [
      "–––\n",
      "maximum : 7.800000000000001\n",
      "minimum : 0.0\n",
      "médiane : 3.9000000000000004\n",
      "moyenne : 3.9\n",
      "écrat-type : 2.3086792761230392\n",
      "–––\n",
      "maximum : 3.6593807063845367\n",
      "minimum : -3.56812402559721\n",
      "médiane : 0.03822521087949808\n",
      "moyenne : 0.012487005748448602\n",
      "écrat-type : 0.970717916554293\n"
     ]
    }
   ],
   "source": [
    "signal = np.random.randn(1000)\n",
    "\n",
    "# fonctions = [np.max, np.min, np.median, np.mean, np.std]\n",
    "fonctions = {\n",
    "    \"maximum\" : np.max, \n",
    "    \"minimum\" : np.min, \n",
    "    \"médiane\" : np.median, \n",
    "    \"moyenne\" : np.mean, \n",
    "    \"écart-type\" : np.std\n",
    "    }\n",
    "\n",
    "def launch_functions(arr):\n",
    "    print(\"–––\")\n",
    "    for name, function in fonctions.items() :\n",
    "        print(name, \":\", function(arr))\n",
    "\n",
    "launch_functions(liste)\n",
    "launch_functions(signal)"
   ]
  },
  {
   "cell_type": "markdown",
   "metadata": {},
   "source": [
    "La fonction **linspace()** crée un array en espaçant les éléments de manière équivalente. \\\n",
    "Le paramètre *stop* (second param) ne fonctionne pas comme d’habitude et inclus la valeur"
   ]
  },
  {
   "cell_type": "code",
   "execution_count": 26,
   "metadata": {},
   "outputs": [
    {
     "data": {
      "text/plain": [
       "numpy.ndarray"
      ]
     },
     "execution_count": 26,
     "metadata": {},
     "output_type": "execute_result"
    }
   ],
   "source": [
    "liste_espacee = np.linspace(1,8,25)\n",
    "\n",
    "type(liste_espace)"
   ]
  },
  {
   "cell_type": "code",
   "execution_count": 29,
   "metadata": {},
   "outputs": [
    {
     "data": {
      "text/plain": [
       "array([[1., 1., 1., 1., 1., 1., 1., 1., 1., 1.],\n",
       "       [1., 1., 1., 1., 1., 1., 1., 1., 1., 1.],\n",
       "       [1., 1., 1., 1., 1., 1., 1., 1., 1., 1.],\n",
       "       [1., 1., 1., 1., 1., 1., 1., 1., 1., 1.],\n",
       "       [1., 1., 1., 1., 1., 1., 1., 1., 1., 1.],\n",
       "       [1., 1., 1., 1., 1., 1., 1., 1., 1., 1.],\n",
       "       [1., 1., 1., 1., 1., 1., 1., 1., 1., 1.],\n",
       "       [1., 1., 1., 1., 1., 1., 1., 1., 1., 1.],\n",
       "       [1., 1., 1., 1., 1., 1., 1., 1., 1., 1.],\n",
       "       [1., 1., 1., 1., 1., 1., 1., 1., 1., 1.]])"
      ]
     },
     "execution_count": 29,
     "metadata": {},
     "output_type": "execute_result"
    }
   ],
   "source": [
    "x = np.ones((10,10))\n",
    "x"
   ]
  },
  {
   "cell_type": "code",
   "execution_count": 36,
   "metadata": {},
   "outputs": [
    {
     "name": "stdout",
     "output_type": "stream",
     "text": [
      "[False False False False False False  True  True  True  True]\n",
      "[ 0  1  2  3  4  5 10 10 10 10]\n",
      "[ 0  1  2  3  4  5 20 20 20 20]\n"
     ]
    }
   ],
   "source": [
    "x = np.asarray([f for f in range(10)])\n",
    "indice = x>5\n",
    "print(indice)\n",
    "x[indice] = 10 \n",
    "print(x)\n",
    "x[indice] = 20 \n",
    "print(x)\n"
   ]
  },
  {
   "cell_type": "markdown",
   "metadata": {},
   "source": [
    "solutions pour remplacer les elements d’une liste par 0 ou 1 en fonction d’une condition : "
   ]
  },
  {
   "cell_type": "code",
   "execution_count": 63,
   "metadata": {},
   "outputs": [
    {
     "data": {
      "text/plain": [
       "array([20, 20, 20, 20, 20, 20, 25, 25, 25, 25, 25])"
      ]
     },
     "execution_count": 63,
     "metadata": {},
     "output_type": "execute_result"
    }
   ],
   "source": [
    "li = np.array([f for f in range(11)])\n",
    "\n",
    "li = li > 5\n",
    "li = li + 4\n",
    "li = li * 5\n",
    "\n",
    "li"
   ]
  },
  {
   "cell_type": "code",
   "execution_count": null,
   "metadata": {},
   "outputs": [],
   "source": [
    "li = [0,1,0,1,0,1]\n",
    "\n",
    "res = []\n",
    "for i, x in enumerate(li) :\n",
    "    if x : res.append(i)\n",
    "\n",
    "res"
   ]
  }
 ],
 "metadata": {
  "kernelspec": {
   "display_name": "Python 3",
   "language": "python",
   "name": "python3"
  },
  "language_info": {
   "codemirror_mode": {
    "name": "ipython",
    "version": 3
   },
   "file_extension": ".py",
   "mimetype": "text/x-python",
   "name": "python",
   "nbconvert_exporter": "python",
   "pygments_lexer": "ipython3",
   "version": "3.11.4"
  },
  "orig_nbformat": 4
 },
 "nbformat": 4,
 "nbformat_minor": 2
}
