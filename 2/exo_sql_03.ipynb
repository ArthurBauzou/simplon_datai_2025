{
 "cells": [
  {
   "cell_type": "code",
   "execution_count": null,
   "metadata": {},
   "outputs": [],
   "source": [
    "# > analyse de la base\n",
    "# pas d’infos client sauf age et genre\n",
    "# les ventes ont lieu dans un magasin, qui pour moi donne pays et région\n",
    "# visiblement le revenu final est imputé de taxes\n",
    "\n",
    "# >> Les taxes sont-elles liées au magasin ?\n",
    "# calcul du taux de taxes par ligne puis comparaison\n",
    "\n",
    "# Table produit\n",
    "# table categorie\n",
    "# table sous-categorie\n",
    "\n",
    "# table client\n",
    "# table categorie d’age\n",
    "\n",
    "# table magasin\n",
    "# table pays\n",
    "# table etat\n",
    "\n",
    "# table vente\n",
    "# table mois"
   ]
  }
 ],
 "metadata": {
  "language_info": {
   "name": "python"
  },
  "orig_nbformat": 4
 },
 "nbformat": 4,
 "nbformat_minor": 2
}
