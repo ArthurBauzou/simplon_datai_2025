{
 "cells": [
  {
   "cell_type": "markdown",
   "metadata": {},
   "source": [
    "Connexion à la base \"produ1\"\n",
    "Récupérer des valeurs dans un fichier .csv"
   ]
  },
  {
   "cell_type": "code",
   "execution_count": 17,
   "metadata": {},
   "outputs": [
    {
     "name": "stdout",
     "output_type": "stream",
     "text": [
      "                                     0    1\n",
      "0                             SURGELES  199\n",
      "1                 SAUCES ET CONDIMENTS  180\n",
      "2                              JETABLE  147\n",
      "3                    BOISSONS DIVERSES  144\n",
      "4  CONSERVES LEGUMES ET PLATS PREPARES  141\n"
     ]
    }
   ],
   "source": [
    "import numpy as np\n",
    "import pandas as pd\n",
    "import mysql.connector as mysql\n",
    "\n",
    "db = mysql.connect(\n",
    "    host = 'localhost',\n",
    "    user = 'root',\n",
    "    password = 'root',\n",
    "    database = 'produ1'\n",
    ")\n",
    "\n",
    "cur = db.cursor()\n",
    "\n",
    "sql = '''\n",
    "SELECT f.nom, count(p.libelle) AS n\n",
    "FROM famille AS f\n",
    "JOIN produit AS p\n",
    "ON f.fam_id = p.fam_id\n",
    "GROUP BY f.nom\n",
    "ORDER BY n DESC\n",
    "'''\n",
    "cur.execute(sql)\n",
    "res = cur.fetchall()\n",
    "cur.close()\n",
    "\n",
    "df = pd.DataFrame(res)\n",
    "print(df.head())"
   ]
  },
  {
   "cell_type": "code",
   "execution_count": 16,
   "metadata": {},
   "outputs": [
    {
     "name": "stdout",
     "output_type": "stream",
     "text": [
      "{'haha': 1, 'hoho': 2, 'hihi': 3}\n"
     ]
    }
   ],
   "source": [
    "# création d’un fichier csv\n",
    "import csv\n",
    "\n",
    "test = [('haha', 1), ('hoho', 2), ('hihi', 3)]\n",
    "testdict = dict(test)\n",
    "print(testdict)\n",
    "\n",
    "\n",
    "with open('./test.csv', 'w') as cur:\n",
    "    for a in test :\n",
    "        cur.write(f'{a[0]}, {a[1]}\\n')\n",
    "\n",
    "\n"
   ]
  }
 ],
 "metadata": {
  "kernelspec": {
   "display_name": "Python 3",
   "language": "python",
   "name": "python3"
  },
  "language_info": {
   "codemirror_mode": {
    "name": "ipython",
    "version": 3
   },
   "file_extension": ".py",
   "mimetype": "text/x-python",
   "name": "python",
   "nbconvert_exporter": "python",
   "pygments_lexer": "ipython3",
   "version": "3.11.5"
  },
  "orig_nbformat": 4
 },
 "nbformat": 4,
 "nbformat_minor": 2
}
