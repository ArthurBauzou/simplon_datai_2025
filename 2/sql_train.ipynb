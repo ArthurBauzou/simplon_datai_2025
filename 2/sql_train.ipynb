{
 "cells": [
  {
   "cell_type": "markdown",
   "metadata": {},
   "source": [
    "# Exercices SQL\n",
    "\n",
    "Récupérer les données dans 'produits csv'\n",
    "\n",
    "Les insérer dans une nouvelle base de deonnées qu’on aura conçue\n",
    "Faire ça en python\n",
    "\n"
   ]
  },
  {
   "cell_type": "code",
   "execution_count": 109,
   "metadata": {},
   "outputs": [
    {
     "name": "stdout",
     "output_type": "stream",
     "text": [
      "1863\n",
      "           Code article\n",
      "CONDITION              \n",
      "BOITE               395\n",
      "CARTO               188\n",
      "SACHE               162\n",
      "SAC                 131\n",
      "BOUTE               112\n",
      "PAQUE               110\n",
      "KG                   99\n",
      "POT                  79\n",
      "FARDE                71\n",
      "SEAU                 57\n",
      "BIDON                54\n",
      "PIECE                40\n",
      "BARQU                40\n",
      "PLATE                39\n",
      "UNI                  39\n",
      "FLACO                38\n",
      "SQUEE                36\n",
      "LOT                  29\n",
      "ETUI                 29\n",
      "PACK                 26\n",
      "BOCAL                26\n",
      "BRICK                18\n",
      "TUBO                  8\n",
      "POCHE                 7\n",
      "CAISS                 7\n",
      "SPRAY                 7\n",
      "TUBE                  4\n",
      "BAC                   4\n",
      "PINGO                 3\n",
      "BIB                   3\n",
      "COLIS                 1\n",
      "BRK                   1\n"
     ]
    }
   ],
   "source": [
    "import numpy as np\n",
    "import pandas as pd\n",
    "\n",
    "prod_df = pd.read_csv('./Produits - Feuille 1.csv')\n",
    "\n",
    "print(prod_df.shape[0])\n",
    "\n",
    "fam_df = prod_df.groupby(['FAMILLE ARTICLE']).count().drop(['LIBELLE ARTICLE', 'CONDITION', 'PU HT'], axis=1)\n",
    "cond_df = prod_df.groupby(['CONDITION']).count().drop(['LIBELLE ARTICLE', 'FAMILLE ARTICLE', 'PU HT'], axis=1)\n",
    "# print(fam_df.sort_values('Code article', ascending=False))\n",
    "print(cond_df.sort_values('Code article', ascending=False))"
   ]
  },
  {
   "cell_type": "markdown",
   "metadata": {},
   "source": [
    "Une fois qu’on a ces infos, on sait qu’on devra créer une table pour chacunes de ces informations en y associant un identifiant\n",
    "\n",
    "Se connecter avec PyMysql"
   ]
  },
  {
   "cell_type": "code",
   "execution_count": 7,
   "metadata": {},
   "outputs": [
    {
     "name": "stdout",
     "output_type": "stream",
     "text": [
      "[(200,)]\n"
     ]
    }
   ],
   "source": [
    "import mysql.connector\n",
    "import random\n",
    "\n",
    "db = mysql.connector.connect(\n",
    "    host = 'localhost',\n",
    "    user = 'root',\n",
    "    password = 'root',\n",
    "    database = 'sakila'\n",
    ")\n",
    "\n",
    "cur = db.cursor()\n",
    "\n",
    "cur.execute(\"SELECT COUNT(*) FROM actor\")\n",
    "res = cur.fetchall()\n",
    "print(res)\n"
   ]
  },
  {
   "cell_type": "markdown",
   "metadata": {},
   "source": [
    "Créons la Base de Données sur mon server"
   ]
  },
  {
   "cell_type": "code",
   "execution_count": 8,
   "metadata": {},
   "outputs": [
    {
     "name": "stdout",
     "output_type": "stream",
     "text": [
      "34\n",
      "25\n"
     ]
    }
   ],
   "source": [
    "#create random id\n",
    "actor_ids = list(range(1,201))\n",
    "random.shuffle(actor_ids)\n",
    "print(actor_ids[0])\n",
    "\n",
    "sql = '''\n",
    "SELECT f.title, a.first_name, a.last_name, a.actor_id\n",
    "FROM film_actor AS fa\n",
    "JOIN film AS f\n",
    "ON fa.film_id = f.film_id\n",
    "JOIN actor AS a\n",
    "ON fa.actor_id = a.actor_id\n",
    "WHERE fa.actor_id = %s;\n",
    "'''\n",
    "\n",
    "cur.execute(sql, (actor_ids[0],))\n",
    "res = cur.fetchall()\n",
    "print(len(res))\n"
   ]
  },
  {
   "cell_type": "markdown",
   "metadata": {},
   "source": [
    "Essayons de créer une table sur ma base perso «produ1»"
   ]
  },
  {
   "cell_type": "code",
   "execution_count": 102,
   "metadata": {},
   "outputs": [
    {
     "name": "stdout",
     "output_type": "stream",
     "text": [
      "('condit',)\n",
      "('famille',)\n",
      "('produit',)\n"
     ]
    }
   ],
   "source": [
    "db = mysql.connector.connect(\n",
    "    host = 'localhost',\n",
    "    user = 'root',\n",
    "    password = 'root',\n",
    "    database = 'produ1'\n",
    ")\n",
    "\n",
    "cur = db.cursor()\n",
    "\n",
    "cur.execute(\"DROP TABLE produit\")\n",
    "cur.execute(\"DROP TABLE famille\")\n",
    "cur.execute(\"DROP TABLE boudin\")\n",
    "\n",
    "req = ['''\n",
    "CREATE TABLE IF NOT EXISTS produit (\n",
    "    prod_id int,\n",
    "    fam_id int,\n",
    "    cond_id int,\n",
    "    libelle varchar(80) NOT NULL UNIQUE,\n",
    "    prix decimal(6,2) NOT NULL,\n",
    "    PRIMARY KEY (prod_id)\n",
    ")''','''\n",
    "CREATE TABLE IF NOT EXISTS famille (\n",
    "    fam_id int,\n",
    "    nom varchar(80) NOT NULL UNIQUE,\n",
    "    PRIMARY KEY (fam_id)\n",
    ")''','''\n",
    "CREATE TABLE IF NOT EXISTS condit (\n",
    "    cond_id int,\n",
    "    nom varchar(80) NOT NULL UNIQUE,\n",
    "    PRIMARY KEY (cond_id)\n",
    ")\n",
    "''']\n",
    "\n",
    "for r in req : cur.execute(r)\n",
    "\n",
    "cur.execute(\"SHOW TABLES\")\n",
    "\n",
    "for x in cur: print(x)"
   ]
  },
  {
   "cell_type": "code",
   "execution_count": 107,
   "metadata": {},
   "outputs": [],
   "source": [
    "\n",
    "# INSERTS INTO FAMILLE\n",
    "# purge de la table\n",
    "cur.execute('TRUNCATE TABLE famille')\n",
    "\n",
    "# préparer les données\n",
    "fam_df = fam_df.sort_values('Code article', ascending=False)\n",
    "famindex = fam_df.reset_index()\n",
    "famindex['Code article'] = range(1,31)\n",
    "famindex.columns = ('nom', 'fam_id')\n",
    "\n",
    "# création d’une table des inserts\n",
    "inserts = []\n",
    "for i, r in famindex.iterrows():\n",
    "    inserts.append(f\"({r['fam_id']}, '{r['nom']}')\")\n",
    "\n",
    "# création du megastring de la requête\n",
    "sql = f'''\n",
    "INSERT INTO famille (fam_id, nom)\n",
    "VALUES\n",
    "{', '.join(inserts)}\n",
    "'''\n",
    "\n",
    "cur.execute(sql)\n",
    "db.commit()\n",
    "\n"
   ]
  },
  {
   "cell_type": "code",
   "execution_count": 108,
   "metadata": {},
   "outputs": [],
   "source": [
    "# INSERTS INTO CONDITIONNEMENTS\n",
    "# purge de la table\n",
    "cur.execute('TRUNCATE TABLE condit')\n",
    "\n",
    "# préparer les données\n",
    "cond_df = cond_df.sort_values('Code article', ascending=False)\n",
    "condindex = cond_df.reset_index()\n",
    "condindex['Code article'] = range(1,33)\n",
    "condindex.columns = ('nom', 'cond_id')\n",
    "\n",
    "# création d’une table des inserts\n",
    "inserts = []\n",
    "for i, r in condindex.iterrows():\n",
    "    inserts.append(f\"({r['cond_id']}, '{r['nom']}')\")\n",
    "\n",
    "# création du megastring de la requête\n",
    "sql = f'''\n",
    "INSERT INTO condit (cond_id, nom)\n",
    "VALUES\n",
    "{', '.join(inserts)}\n",
    "'''\n",
    "\n",
    "cur.execute(sql)\n",
    "db.commit()"
   ]
  },
  {
   "cell_type": "code",
   "execution_count": 136,
   "metadata": {},
   "outputs": [
    {
     "name": "stdout",
     "output_type": "stream",
     "text": [
      "      Code article                           LIBELLE ARTICLE  FAMILLE ARTICLE  \\\n",
      "0             1010                       HUILE ARACHIDE 25 L               17   \n",
      "1             1011                        HUILE ARACHIDE 5 L               17   \n",
      "2             1012                        HUILE ARACHIDE 1 L               17   \n",
      "3             1014    HUILE MEZZO 1 L (50%OLIVE50%TOURNESOL)               17   \n",
      "4             1015                           HUILE COLZA 5 L               17   \n",
      "...            ...                                       ...              ...   \n",
      "1858         35885                 QUICHES LORRAINE 180G X14                1   \n",
      "1859         35900                FARCIS NICOIS SG - SAC 2KG                1   \n",
      "1860         35920              RAVIOLIS A LA NICOISE SG 2KG                1   \n",
      "1861         37718               COOKIES CHOCOLAT SG 76G X30                1   \n",
      "1862         37720  COOKIES 3 CHOC LAIT EMB.INDIV.106GX30 SG                1   \n",
      "\n",
      "      CONDITION  PU HT  \n",
      "0            11  60,71  \n",
      "1            11  14,33  \n",
      "2             5   2,87  \n",
      "3             5   2,67  \n",
      "4            11   7,57  \n",
      "...         ...    ...  \n",
      "1858          2  17,50  \n",
      "1859          2  51,52  \n",
      "1860          4  40,90  \n",
      "1861          2  29,65  \n",
      "1862          2  32,75  \n",
      "\n",
      "[1863 rows x 5 columns]\n"
     ]
    }
   ],
   "source": [
    "# remplir la table principale\n",
    "\n",
    "fam_dic = famindex.to_dict('tight')\n",
    "cond_dic = condindex.to_dict('tight')\n",
    "repl_dict = {\n",
    "    \"FAMILLE ARTICLE\": dict(fam_dic['data']),\n",
    "    \"CONDITION\": dict(cond_dic['data'])\n",
    "}\n",
    "\n",
    "main_df = prod_df.copy()\n",
    "\n",
    "for k,v in repl_dict.items() : {\n",
    "    main_df[k].replace(v, inplace = True)\n",
    "}\n",
    "\n",
    "print(main_df)"
   ]
  },
  {
   "cell_type": "markdown",
   "metadata": {},
   "source": []
  }
 ],
 "metadata": {
  "kernelspec": {
   "display_name": "base",
   "language": "python",
   "name": "python3"
  },
  "language_info": {
   "codemirror_mode": {
    "name": "ipython",
    "version": 3
   },
   "file_extension": ".py",
   "mimetype": "text/x-python",
   "name": "python",
   "nbconvert_exporter": "python",
   "pygments_lexer": "ipython3",
   "version": "3.11.5"
  },
  "orig_nbformat": 4
 },
 "nbformat": 4,
 "nbformat_minor": 2
}
