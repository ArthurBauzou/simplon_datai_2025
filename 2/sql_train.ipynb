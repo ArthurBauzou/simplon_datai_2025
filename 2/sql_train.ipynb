{
 "cells": [
  {
   "cell_type": "markdown",
   "metadata": {},
   "source": [
    "# Exercices SQL\n",
    "\n",
    "Récupérer les données dans 'produits csv'\n",
    "\n",
    "Les insérer dans une nouvelle base de deonnées qu’on aura conçue\n",
    "Faire ça en python\n",
    "\n"
   ]
  },
  {
   "cell_type": "code",
   "execution_count": 109,
   "metadata": {},
   "outputs": [
    {
     "name": "stdout",
     "output_type": "stream",
     "text": [
      "1863\n",
      "           Code article\n",
      "CONDITION              \n",
      "BOITE               395\n",
      "CARTO               188\n",
      "SACHE               162\n",
      "SAC                 131\n",
      "BOUTE               112\n",
      "PAQUE               110\n",
      "KG                   99\n",
      "POT                  79\n",
      "FARDE                71\n",
      "SEAU                 57\n",
      "BIDON                54\n",
      "PIECE                40\n",
      "BARQU                40\n",
      "PLATE                39\n",
      "UNI                  39\n",
      "FLACO                38\n",
      "SQUEE                36\n",
      "LOT                  29\n",
      "ETUI                 29\n",
      "PACK                 26\n",
      "BOCAL                26\n",
      "BRICK                18\n",
      "TUBO                  8\n",
      "POCHE                 7\n",
      "CAISS                 7\n",
      "SPRAY                 7\n",
      "TUBE                  4\n",
      "BAC                   4\n",
      "PINGO                 3\n",
      "BIB                   3\n",
      "COLIS                 1\n",
      "BRK                   1\n"
     ]
    }
   ],
   "source": [
    "import numpy as np\n",
    "import pandas as pd\n",
    "\n",
    "prod_df = pd.read_csv('./Produits - Feuille 1.csv')\n",
    "\n",
    "print(prod_df.shape[0])\n",
    "\n",
    "fam_df = prod_df.groupby(['FAMILLE ARTICLE']).count().drop(['LIBELLE ARTICLE', 'CONDITION', 'PU HT'], axis=1)\n",
    "cond_df = prod_df.groupby(['CONDITION']).count().drop(['LIBELLE ARTICLE', 'FAMILLE ARTICLE', 'PU HT'], axis=1)"
   ]
  },
  {
   "cell_type": "markdown",
   "metadata": {},
   "source": [
    "Une fois qu’on a ces infos, on sait qu’on devra créer une table pour chacunes de ces informations en y associant un identifiant\n",
    "\n",
    "Se connecter avec PyMysql"
   ]
  },
  {
   "cell_type": "code",
   "execution_count": 7,
   "metadata": {},
   "outputs": [
    {
     "name": "stdout",
     "output_type": "stream",
     "text": [
      "[(200,)]\n"
     ]
    }
   ],
   "source": [
    "import mysql.connector\n",
    "import random\n",
    "\n",
    "db = mysql.connector.connect(\n",
    "    host = 'localhost',\n",
    "    user = 'root',\n",
    "    password = 'root',\n",
    "    database = 'sakila'\n",
    ")\n",
    "\n",
    "cur = db.cursor()\n",
    "\n",
    "cur.execute(\"SELECT COUNT(*) FROM actor\")\n",
    "res = cur.fetchall()\n",
    "print(res)\n"
   ]
  },
  {
   "cell_type": "markdown",
   "metadata": {},
   "source": [
    "Créons la Base de Données sur mon server"
   ]
  },
  {
   "cell_type": "code",
   "execution_count": 8,
   "metadata": {},
   "outputs": [
    {
     "name": "stdout",
     "output_type": "stream",
     "text": [
      "34\n",
      "25\n"
     ]
    }
   ],
   "source": [
    "#create random id\n",
    "actor_ids = list(range(1,201))\n",
    "random.shuffle(actor_ids)\n",
    "print(actor_ids[0])\n",
    "\n",
    "sql = '''\n",
    "SELECT f.title, a.first_name, a.last_name, a.actor_id\n",
    "FROM film_actor AS fa\n",
    "JOIN film AS f\n",
    "ON fa.film_id = f.film_id\n",
    "JOIN actor AS a\n",
    "ON fa.actor_id = a.actor_id\n",
    "WHERE fa.actor_id = %s;\n",
    "'''\n",
    "\n",
    "cur.execute(sql, (actor_ids[0],))\n",
    "res = cur.fetchall()\n",
    "print(len(res))\n"
   ]
  },
  {
   "cell_type": "markdown",
   "metadata": {},
   "source": [
    "Essayons de créer une table sur ma base perso «produ1»"
   ]
  },
  {
   "cell_type": "code",
   "execution_count": 214,
   "metadata": {},
   "outputs": [
    {
     "name": "stdout",
     "output_type": "stream",
     "text": [
      "('condit',)\n",
      "('famille',)\n",
      "('produit',)\n"
     ]
    }
   ],
   "source": [
    "db = mysql.connector.connect(\n",
    "    host = 'localhost',\n",
    "    user = 'root',\n",
    "    password = 'root',\n",
    "    database = 'produ1'\n",
    ")\n",
    "\n",
    "cur = db.cursor()\n",
    "\n",
    "cur.execute(\"DROP TABLE produit\")\n",
    "cur.execute(\"DROP TABLE famille\")\n",
    "cur.execute(\"DROP TABLE condit\")\n",
    "\n",
    "req = ['''\n",
    "CREATE TABLE IF NOT EXISTS produit (\n",
    "    prod_id INT NOT NULL AUTO_INCREMENT,\n",
    "    fam_id INT,\n",
    "    cond_id INT,\n",
    "    code INT,\n",
    "    libelle VARCHAR(80) NOT NULL UNIQUE,\n",
    "    prix DECIMAL(6,2) NOT NULL,\n",
    "    PRIMARY KEY (prod_id)\n",
    ")''','''\n",
    "CREATE TABLE IF NOT EXISTS famille (\n",
    "    fam_id INT,\n",
    "    nom VARCHAR(80) NOT NULL UNIQUE,\n",
    "    PRIMARY KEY (fam_id)\n",
    ")''','''\n",
    "CREATE TABLE IF NOT EXISTS condit (\n",
    "    cond_id INT,\n",
    "    nom VARCHAR(80) NOT NULL UNIQUE,\n",
    "    PRIMARY KEY (cond_id)\n",
    ")\n",
    "''']\n",
    "\n",
    "for r in req : cur.execute(r)\n",
    "\n",
    "cur.execute(\"SHOW TABLES\")\n",
    "\n",
    "for x in cur: print(x)"
   ]
  },
  {
   "cell_type": "code",
   "execution_count": 215,
   "metadata": {},
   "outputs": [
    {
     "name": "stdout",
     "output_type": "stream",
     "text": [
      "                                    nom  fam_id\n",
      "0                              SURGELES       1\n",
      "1                  SAUCES ET CONDIMENTS       2\n",
      "2                               JETABLE       3\n",
      "3                     BOISSONS DIVERSES       4\n",
      "4   CONSERVES LEGUMES ET PLATS PREPARES       5\n",
      "5                              FROMAGES       6\n",
      "6                    EPICES ET AROMATES       7\n",
      "7             PATES ET AUTRES FECULENTS       8\n",
      "8               PRODUITS DE  PATISSERIE       9\n",
      "9         BISCOTTES ET DERIVES BISCUITS      10\n",
      "10        PRODUITS HYGIENE ET ENTRETIEN      11\n",
      "11                          CHARCUTERIE      12\n",
      "12                     CONFITURE - MIEL      13\n",
      "13                   PRODUITS DE LA MER      14\n",
      "14                  CONSERVES DE FRUITS      15\n",
      "15                               HUILES      16\n",
      "16                             CREMERIE      17\n",
      "17          FONDS ET SAUCES DESHYDRATES      18\n",
      "18                          FRUITS SECS      19\n",
      "19                                SUCRE      20\n",
      "20                           CONFISERIE      21\n",
      "21                               VIANDE      22\n",
      "22                    CAFE THE CHOCOLAT      23\n",
      "23                  BEURRE ET MARGARINE      24\n",
      "24                               OLIVES      25\n",
      "25                               FARINE      26\n",
      "26                     OEUFS ET DERIVES      27\n",
      "27                                 LAIT      28\n",
      "28                              LEVURES      29\n",
      "29      ALCOOLS CHAMPAGNE MOUSSEUX VINS      30\n"
     ]
    }
   ],
   "source": [
    "\n",
    "# INSERTS INTO FAMILLE\n",
    "# purge de la table\n",
    "cur.execute('TRUNCATE TABLE famille')\n",
    "\n",
    "# préparer les données\n",
    "fam_df = fam_df.sort_values('Code article', ascending=False)\n",
    "famindex = fam_df.reset_index()\n",
    "famindex['Code article'] = range(1,31)\n",
    "famindex.columns = ('nom', 'fam_id')\n",
    "print(famindex)\n",
    "\n",
    "# création d’une table des inserts\n",
    "inserts = []\n",
    "for i, r in famindex.iterrows():\n",
    "    inserts.append(f\"({r['fam_id']}, '{r['nom']}')\")\n",
    "\n",
    "# création du megastring de la requête\n",
    "sql = f'''\n",
    "INSERT INTO famille (fam_id, nom)\n",
    "VALUES\n",
    "{', '.join(inserts)}\n",
    "'''\n",
    "\n",
    "# cur.execute(sql)\n",
    "# db.commit()\n",
    "\n"
   ]
  },
  {
   "cell_type": "code",
   "execution_count": 216,
   "metadata": {},
   "outputs": [],
   "source": [
    "# INSERTS INTO CONDITIONNEMENTS\n",
    "# purge de la table\n",
    "cur.execute('TRUNCATE TABLE condit')\n",
    "\n",
    "# préparer les données\n",
    "cond_df = cond_df.sort_values('Code article', ascending=False)\n",
    "condindex = cond_df.reset_index()\n",
    "condindex['Code article'] = range(1,condindex.shape[0]+1)\n",
    "condindex.columns = ('nom', 'cond_id')\n",
    "\n",
    "# création d’une table des inserts\n",
    "inserts = []\n",
    "for i, r in condindex.iterrows():\n",
    "    inserts.append(f\"({r['cond_id']}, '{r['nom']}')\")\n",
    "\n",
    "# création du megastring de la requête\n",
    "sql = f'''\n",
    "INSERT INTO condit (cond_id, nom)\n",
    "VALUES\n",
    "{', '.join(inserts)}\n",
    "'''\n",
    "\n",
    "cur.execute(sql)\n",
    "db.commit()"
   ]
  },
  {
   "cell_type": "code",
   "execution_count": 217,
   "metadata": {},
   "outputs": [
    {
     "name": "stdout",
     "output_type": "stream",
     "text": [
      "[(0, 16, 5, 1054, 'HUILE OLIVE TRUFFE 250ML', 12.15), (0, 16, 5, 1055, 'HUILE TRUFFE BLANCHE 250 ML EMPORIO', 12.0), (0, 16, 11, 1070, 'HUILE PEPIN DE RAISIN 5L', 17.97), (0, 16, 5, 1072, 'HUILE PEPIN DE RAISIN 1L', 3.91), (0, 16, 26, 1080, 'BOMBE A GRAISSE 600 ML', 4.93)]\n"
     ]
    }
   ],
   "source": [
    "# remplir la table principale\n",
    "\n",
    "cur.execute('TRUNCATE TABLE produit')\n",
    "\n",
    "# création de dictionnaires pour remplacer les noms de familles et conditions par leurs identifiants respectifs\n",
    "fam_dic = famindex.to_dict('tight')\n",
    "cond_dic = condindex.to_dict('tight')\n",
    "repl_dict = {\n",
    "    \"FAMILLE ARTICLE\": dict(fam_dic['data']),\n",
    "    \"CONDITION\": dict(cond_dic['data'])\n",
    "}\n",
    "#boucle de remplacement\n",
    "main_df = prod_df.copy()\n",
    "for k,v in repl_dict.items() : {\n",
    "    main_df[k].replace(v, inplace = True)\n",
    "}\n",
    "    \n",
    "main_df.columns = ['code', 'libelle', 'fam_id', 'cond_id', 'prix']\n",
    "\n",
    "inserts = []\n",
    "for i, r in main_df.iterrows():\n",
    "    tup = []\n",
    "    tup.append(0)\n",
    "    tup.append(r['fam_id'])\n",
    "    tup.append(r['cond_id'])\n",
    "    tup.append(r['code'])\n",
    "    tup.append(r['libelle'])\n",
    "    tup.append(float(r['prix'].replace(\",\",\".\")))\n",
    "    tup = tuple(tup)\n",
    "    inserts.append(tup)\n",
    "\n",
    "sql = '''\n",
    "INSERT INTO produit (prod_id, fam_id, cond_id, code, libelle, prix)\n",
    "VALUES (%s, %s, %s, %s, %s, %s)\n",
    "'''\n",
    "\n",
    "cur.executemany(sql, inserts)\n",
    "db.commit()\n"
   ]
  },
  {
   "cell_type": "code",
   "execution_count": 219,
   "metadata": {},
   "outputs": [
    {
     "ename": "IntegrityError",
     "evalue": "1452 (23000): Cannot add or update a child row: a foreign key constraint fails (`produ1`.`#sql-28c0_5f`, CONSTRAINT `produit_ibfk_1` FOREIGN KEY (`fam_id`) REFERENCES `famille` (`fam_id`))",
     "output_type": "error",
     "traceback": [
      "\u001b[1;31m---------------------------------------------------------------------------\u001b[0m",
      "\u001b[1;31mMySQLInterfaceError\u001b[0m                       Traceback (most recent call last)",
      "File \u001b[1;32mc:\\Users\\poulp\\AppData\\Local\\Programs\\Python\\Python311\\Lib\\site-packages\\mysql\\connector\\connection_cext.py:633\u001b[0m, in \u001b[0;36mCMySQLConnection.cmd_query\u001b[1;34m(self, query, raw, buffered, raw_as_string)\u001b[0m\n\u001b[0;32m    632\u001b[0m         query \u001b[39m=\u001b[39m query\u001b[39m.\u001b[39mencode(\u001b[39m\"\u001b[39m\u001b[39mutf-8\u001b[39m\u001b[39m\"\u001b[39m)\n\u001b[1;32m--> 633\u001b[0m     \u001b[39mself\u001b[39;49m\u001b[39m.\u001b[39;49m_cmysql\u001b[39m.\u001b[39;49mquery(\n\u001b[0;32m    634\u001b[0m         query,\n\u001b[0;32m    635\u001b[0m         raw\u001b[39m=\u001b[39;49mraw,\n\u001b[0;32m    636\u001b[0m         buffered\u001b[39m=\u001b[39;49mbuffered,\n\u001b[0;32m    637\u001b[0m         raw_as_string\u001b[39m=\u001b[39;49mraw_as_string,\n\u001b[0;32m    638\u001b[0m         query_attrs\u001b[39m=\u001b[39;49m\u001b[39mself\u001b[39;49m\u001b[39m.\u001b[39;49mquery_attrs,\n\u001b[0;32m    639\u001b[0m     )\n\u001b[0;32m    640\u001b[0m \u001b[39mexcept\u001b[39;00m MySQLInterfaceError \u001b[39mas\u001b[39;00m err:\n",
      "\u001b[1;31mMySQLInterfaceError\u001b[0m: Cannot add or update a child row: a foreign key constraint fails (`produ1`.`#sql-28c0_5f`, CONSTRAINT `produit_ibfk_1` FOREIGN KEY (`fam_id`) REFERENCES `famille` (`fam_id`))",
      "\nThe above exception was the direct cause of the following exception:\n",
      "\u001b[1;31mIntegrityError\u001b[0m                            Traceback (most recent call last)",
      "\u001b[1;32mc:\\Users\\poulp\\Desktop\\SIMP01\\simplon_datai_2025\\2\\sql_train.ipynb Cell 12\u001b[0m line \u001b[0;36m1\n\u001b[0;32m      <a href='vscode-notebook-cell:/c%3A/Users/poulp/Desktop/SIMP01/simplon_datai_2025/2/sql_train.ipynb#X15sZmlsZQ%3D%3D?line=0'>1</a>\u001b[0m \u001b[39m# editer les tables pour y spécifier l’existance de clef étrangères\u001b[39;00m\n\u001b[0;32m      <a href='vscode-notebook-cell:/c%3A/Users/poulp/Desktop/SIMP01/simplon_datai_2025/2/sql_train.ipynb#X15sZmlsZQ%3D%3D?line=1'>2</a>\u001b[0m \n\u001b[0;32m      <a href='vscode-notebook-cell:/c%3A/Users/poulp/Desktop/SIMP01/simplon_datai_2025/2/sql_train.ipynb#X15sZmlsZQ%3D%3D?line=2'>3</a>\u001b[0m \u001b[39m# sql = '''\u001b[39;00m\n\u001b[1;32m   (...)\u001b[0m\n\u001b[0;32m      <a href='vscode-notebook-cell:/c%3A/Users/poulp/Desktop/SIMP01/simplon_datai_2025/2/sql_train.ipynb#X15sZmlsZQ%3D%3D?line=7'>8</a>\u001b[0m \u001b[39m# ON DELETE CASCADE;\u001b[39;00m\n\u001b[0;32m      <a href='vscode-notebook-cell:/c%3A/Users/poulp/Desktop/SIMP01/simplon_datai_2025/2/sql_train.ipynb#X15sZmlsZQ%3D%3D?line=8'>9</a>\u001b[0m \u001b[39m# '''\u001b[39;00m\n\u001b[0;32m     <a href='vscode-notebook-cell:/c%3A/Users/poulp/Desktop/SIMP01/simplon_datai_2025/2/sql_train.ipynb#X15sZmlsZQ%3D%3D?line=10'>11</a>\u001b[0m sql \u001b[39m=\u001b[39m \u001b[39m'''\u001b[39m\n\u001b[0;32m     <a href='vscode-notebook-cell:/c%3A/Users/poulp/Desktop/SIMP01/simplon_datai_2025/2/sql_train.ipynb#X15sZmlsZQ%3D%3D?line=11'>12</a>\u001b[0m \u001b[39mALTER TABLE produit\u001b[39m\n\u001b[0;32m     <a href='vscode-notebook-cell:/c%3A/Users/poulp/Desktop/SIMP01/simplon_datai_2025/2/sql_train.ipynb#X15sZmlsZQ%3D%3D?line=12'>13</a>\u001b[0m \u001b[39mADD FOREIGN KEY (fam_id)\u001b[39m\n\u001b[0;32m     <a href='vscode-notebook-cell:/c%3A/Users/poulp/Desktop/SIMP01/simplon_datai_2025/2/sql_train.ipynb#X15sZmlsZQ%3D%3D?line=13'>14</a>\u001b[0m \u001b[39mREFERENCES famille(fam_id);\u001b[39m\n\u001b[0;32m     <a href='vscode-notebook-cell:/c%3A/Users/poulp/Desktop/SIMP01/simplon_datai_2025/2/sql_train.ipynb#X15sZmlsZQ%3D%3D?line=14'>15</a>\u001b[0m \u001b[39m'''\u001b[39m\n\u001b[1;32m---> <a href='vscode-notebook-cell:/c%3A/Users/poulp/Desktop/SIMP01/simplon_datai_2025/2/sql_train.ipynb#X15sZmlsZQ%3D%3D?line=16'>17</a>\u001b[0m cur\u001b[39m.\u001b[39;49mexecute(sql)\n",
      "File \u001b[1;32mc:\\Users\\poulp\\AppData\\Local\\Programs\\Python\\Python311\\Lib\\site-packages\\mysql\\connector\\cursor_cext.py:330\u001b[0m, in \u001b[0;36mCMySQLCursor.execute\u001b[1;34m(self, operation, params, multi)\u001b[0m\n\u001b[0;32m    325\u001b[0m             \u001b[39mraise\u001b[39;00m ProgrammingError(\n\u001b[0;32m    326\u001b[0m                 \u001b[39m\"\u001b[39m\u001b[39mNot all parameters were used in the SQL statement\u001b[39m\u001b[39m\"\u001b[39m\n\u001b[0;32m    327\u001b[0m             )\n\u001b[0;32m    329\u001b[0m \u001b[39mtry\u001b[39;00m:\n\u001b[1;32m--> 330\u001b[0m     result \u001b[39m=\u001b[39m \u001b[39mself\u001b[39;49m\u001b[39m.\u001b[39;49m_cnx\u001b[39m.\u001b[39;49mcmd_query(\n\u001b[0;32m    331\u001b[0m         stmt,\n\u001b[0;32m    332\u001b[0m         raw\u001b[39m=\u001b[39;49m\u001b[39mself\u001b[39;49m\u001b[39m.\u001b[39;49m_raw,\n\u001b[0;32m    333\u001b[0m         buffered\u001b[39m=\u001b[39;49m\u001b[39mself\u001b[39;49m\u001b[39m.\u001b[39;49m_buffered,\n\u001b[0;32m    334\u001b[0m         raw_as_string\u001b[39m=\u001b[39;49m\u001b[39mself\u001b[39;49m\u001b[39m.\u001b[39;49m_raw_as_string,\n\u001b[0;32m    335\u001b[0m     )\n\u001b[0;32m    336\u001b[0m \u001b[39mexcept\u001b[39;00m MySQLInterfaceError \u001b[39mas\u001b[39;00m err:\n\u001b[0;32m    337\u001b[0m     \u001b[39mraise\u001b[39;00m get_mysql_exception(\n\u001b[0;32m    338\u001b[0m         msg\u001b[39m=\u001b[39merr\u001b[39m.\u001b[39mmsg, errno\u001b[39m=\u001b[39merr\u001b[39m.\u001b[39merrno, sqlstate\u001b[39m=\u001b[39merr\u001b[39m.\u001b[39msqlstate\n\u001b[0;32m    339\u001b[0m     ) \u001b[39mfrom\u001b[39;00m \u001b[39merr\u001b[39;00m\n",
      "File \u001b[1;32mc:\\Users\\poulp\\AppData\\Local\\Programs\\Python\\Python311\\Lib\\site-packages\\mysql\\connector\\opentelemetry\\context_propagation.py:77\u001b[0m, in \u001b[0;36mwith_context_propagation.<locals>.wrapper\u001b[1;34m(cnx, *args, **kwargs)\u001b[0m\n\u001b[0;32m     75\u001b[0m \u001b[39m\u001b[39m\u001b[39m\"\"\"Context propagation decorator.\"\"\"\u001b[39;00m\n\u001b[0;32m     76\u001b[0m \u001b[39mif\u001b[39;00m \u001b[39mnot\u001b[39;00m OTEL_ENABLED \u001b[39mor\u001b[39;00m \u001b[39mnot\u001b[39;00m cnx\u001b[39m.\u001b[39motel_context_propagation:\n\u001b[1;32m---> 77\u001b[0m     \u001b[39mreturn\u001b[39;00m method(cnx, \u001b[39m*\u001b[39;49margs, \u001b[39m*\u001b[39;49m\u001b[39m*\u001b[39;49mkwargs)\n\u001b[0;32m     79\u001b[0m current_span \u001b[39m=\u001b[39m trace\u001b[39m.\u001b[39mget_current_span()\n\u001b[0;32m     80\u001b[0m tp_header \u001b[39m=\u001b[39m \u001b[39mNone\u001b[39;00m\n",
      "File \u001b[1;32mc:\\Users\\poulp\\AppData\\Local\\Programs\\Python\\Python311\\Lib\\site-packages\\mysql\\connector\\connection_cext.py:641\u001b[0m, in \u001b[0;36mCMySQLConnection.cmd_query\u001b[1;34m(self, query, raw, buffered, raw_as_string)\u001b[0m\n\u001b[0;32m    633\u001b[0m     \u001b[39mself\u001b[39m\u001b[39m.\u001b[39m_cmysql\u001b[39m.\u001b[39mquery(\n\u001b[0;32m    634\u001b[0m         query,\n\u001b[0;32m    635\u001b[0m         raw\u001b[39m=\u001b[39mraw,\n\u001b[1;32m   (...)\u001b[0m\n\u001b[0;32m    638\u001b[0m         query_attrs\u001b[39m=\u001b[39m\u001b[39mself\u001b[39m\u001b[39m.\u001b[39mquery_attrs,\n\u001b[0;32m    639\u001b[0m     )\n\u001b[0;32m    640\u001b[0m \u001b[39mexcept\u001b[39;00m MySQLInterfaceError \u001b[39mas\u001b[39;00m err:\n\u001b[1;32m--> 641\u001b[0m     \u001b[39mraise\u001b[39;00m get_mysql_exception(\n\u001b[0;32m    642\u001b[0m         err\u001b[39m.\u001b[39merrno, msg\u001b[39m=\u001b[39merr\u001b[39m.\u001b[39mmsg, sqlstate\u001b[39m=\u001b[39merr\u001b[39m.\u001b[39msqlstate\n\u001b[0;32m    643\u001b[0m     ) \u001b[39mfrom\u001b[39;00m \u001b[39merr\u001b[39;00m\n\u001b[0;32m    644\u001b[0m \u001b[39mexcept\u001b[39;00m \u001b[39mAttributeError\u001b[39;00m \u001b[39mas\u001b[39;00m err:\n\u001b[0;32m    645\u001b[0m     addr \u001b[39m=\u001b[39m (\n\u001b[0;32m    646\u001b[0m         \u001b[39mself\u001b[39m\u001b[39m.\u001b[39m_unix_socket \u001b[39mif\u001b[39;00m \u001b[39mself\u001b[39m\u001b[39m.\u001b[39m_unix_socket \u001b[39melse\u001b[39;00m \u001b[39mf\u001b[39m\u001b[39m\"\u001b[39m\u001b[39m{\u001b[39;00m\u001b[39mself\u001b[39m\u001b[39m.\u001b[39m_host\u001b[39m}\u001b[39;00m\u001b[39m:\u001b[39m\u001b[39m{\u001b[39;00m\u001b[39mself\u001b[39m\u001b[39m.\u001b[39m_port\u001b[39m}\u001b[39;00m\u001b[39m\"\u001b[39m\n\u001b[0;32m    647\u001b[0m     )\n",
      "\u001b[1;31mIntegrityError\u001b[0m: 1452 (23000): Cannot add or update a child row: a foreign key constraint fails (`produ1`.`#sql-28c0_5f`, CONSTRAINT `produit_ibfk_1` FOREIGN KEY (`fam_id`) REFERENCES `famille` (`fam_id`))"
     ]
    }
   ],
   "source": [
    "# editer les tables pour y spécifier l’existance de clef étrangères\n",
    "\n",
    "# sql = '''\n",
    "# ALTER TABLE produit\n",
    "# ADD CONSTRAINT FOREIGN KEY (fam_id)\n",
    "# REFERENCES famille(fam_id)\n",
    "# ON UPDATE CASCADE\n",
    "# ON DELETE CASCADE;\n",
    "# '''\n",
    "\n",
    "sql = '''\n",
    "ALTER TABLE produit\n",
    "ADD FOREIGN KEY (fam_id)\n",
    "REFERENCES famille(fam_id);\n",
    "'''\n",
    "\n",
    "cur.execute(sql)\n",
    "\n"
   ]
  }
 ],
 "metadata": {
  "kernelspec": {
   "display_name": "base",
   "language": "python",
   "name": "python3"
  },
  "language_info": {
   "codemirror_mode": {
    "name": "ipython",
    "version": 3
   },
   "file_extension": ".py",
   "mimetype": "text/x-python",
   "name": "python",
   "nbconvert_exporter": "python",
   "pygments_lexer": "ipython3",
   "version": "3.11.5"
  },
  "orig_nbformat": 4
 },
 "nbformat": 4,
 "nbformat_minor": 2
}
