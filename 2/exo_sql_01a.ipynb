{
 "cells": [
  {
   "cell_type": "markdown",
   "metadata": {},
   "source": [
    "# Exercices SQL\n",
    "\n",
    "Récupérer les données dans 'produits csv'\n",
    "\n",
    "Les insérer dans une nouvelle base de deonnées qu’on aura conçue\n",
    "Faire ça en python\n",
    "\n"
   ]
  },
  {
   "cell_type": "code",
   "execution_count": 2,
   "metadata": {},
   "outputs": [
    {
     "name": "stdout",
     "output_type": "stream",
     "text": [
      "1863\n"
     ]
    }
   ],
   "source": [
    "import numpy as np\n",
    "import pandas as pd\n",
    "\n",
    "prod_df = pd.read_csv('./Produits - Feuille 1.csv')\n",
    "\n",
    "print(prod_df.shape[0])\n",
    "\n",
    "fam_df = prod_df.groupby(['FAMILLE ARTICLE']).count().drop(['LIBELLE ARTICLE', 'CONDITION', 'PU HT'], axis=1)\n",
    "cond_df = prod_df.groupby(['CONDITION']).count().drop(['LIBELLE ARTICLE', 'FAMILLE ARTICLE', 'PU HT'], axis=1)"
   ]
  },
  {
   "cell_type": "markdown",
   "metadata": {},
   "source": [
    "Une fois qu’on a ces infos, on sait qu’on devra créer une table pour chacunes de ces informations en y associant un identifiant\n",
    "\n",
    "Se connecter avec PyMysql"
   ]
  },
  {
   "cell_type": "code",
   "execution_count": 3,
   "metadata": {},
   "outputs": [
    {
     "name": "stdout",
     "output_type": "stream",
     "text": [
      "[(1, 'PENELOPE', 'GUINESS', datetime.datetime(2006, 2, 15, 4, 34, 33))]\n"
     ]
    }
   ],
   "source": [
    "import mysql.connector\n",
    "import random\n",
    "\n",
    "db = mysql.connector.connect(\n",
    "    host = 'localhost',\n",
    "    user = 'root',\n",
    "    password = 'root',\n",
    "    database = 'sakila'\n",
    ")\n",
    "\n",
    "cur = db.cursor()\n",
    "\n",
    "cur.execute(\"SELECT * FROM actor LIMIT 1\")\n",
    "res = cur.fetchall()\n",
    "print(res)\n"
   ]
  },
  {
   "cell_type": "markdown",
   "metadata": {},
   "source": [
    "Créons la Base de Données sur mon server"
   ]
  },
  {
   "cell_type": "code",
   "execution_count": 4,
   "metadata": {},
   "outputs": [
    {
     "name": "stdout",
     "output_type": "stream",
     "text": [
      "114\n",
      "25\n"
     ]
    }
   ],
   "source": [
    "#create random id\n",
    "actor_ids = list(range(1,201))\n",
    "random.shuffle(actor_ids)\n",
    "print(actor_ids[0])\n",
    "\n",
    "sql = '''\n",
    "SELECT f.title, a.first_name, a.last_name, a.actor_id\n",
    "FROM film_actor AS fa\n",
    "JOIN film AS f\n",
    "ON fa.film_id = f.film_id\n",
    "JOIN actor AS a\n",
    "ON fa.actor_id = a.actor_id\n",
    "WHERE fa.actor_id = %s;\n",
    "'''\n",
    "\n",
    "cur.execute(sql, (actor_ids[0],))\n",
    "res = cur.fetchall()\n",
    "print(len(res))\n"
   ]
  },
  {
   "cell_type": "markdown",
   "metadata": {},
   "source": [
    "Essayons de créer une table sur ma base perso «produ1»"
   ]
  },
  {
   "cell_type": "code",
   "execution_count": 5,
   "metadata": {},
   "outputs": [
    {
     "name": "stdout",
     "output_type": "stream",
     "text": [
      "('condit',)\n",
      "('famille',)\n",
      "('produit',)\n"
     ]
    }
   ],
   "source": [
    "db = mysql.connector.connect(\n",
    "    host = 'localhost',\n",
    "    user = 'root',\n",
    "    password = 'root',\n",
    "    database = 'produ1'\n",
    ")\n",
    "\n",
    "cur = db.cursor()\n",
    "\n",
    "cur.execute(\"DROP TABLE produit\")\n",
    "cur.execute(\"DROP TABLE famille\")\n",
    "cur.execute(\"DROP TABLE condit\")\n",
    "\n",
    "req = ['''\n",
    "CREATE TABLE IF NOT EXISTS produit (\n",
    "    prod_id INT NOT NULL AUTO_INCREMENT,\n",
    "    fam_id INT,\n",
    "    cond_id INT,\n",
    "    code_art INT,\n",
    "    libelle VARCHAR(80) NOT NULL UNIQUE,\n",
    "    prix DECIMAL(6,2) NOT NULL,\n",
    "    PRIMARY KEY (prod_id)\n",
    ")''','''\n",
    "CREATE TABLE IF NOT EXISTS famille (\n",
    "    fam_id INT,\n",
    "    nom VARCHAR(80) NOT NULL UNIQUE,\n",
    "    PRIMARY KEY (fam_id)\n",
    ")''','''\n",
    "CREATE TABLE IF NOT EXISTS condit (\n",
    "    cond_id INT,\n",
    "    nom VARCHAR(80) NOT NULL UNIQUE,\n",
    "    PRIMARY KEY (cond_id)\n",
    ")\n",
    "''']\n",
    "\n",
    "for r in req : cur.execute(r)\n",
    "\n",
    "cur.execute(\"SHOW TABLES\")\n",
    "\n",
    "for x in cur: print(x)"
   ]
  },
  {
   "cell_type": "code",
   "execution_count": 6,
   "metadata": {},
   "outputs": [],
   "source": [
    "# INSERTS INTO FAMILLE\n",
    "# purge de la table\n",
    "cur.execute('TRUNCATE TABLE famille')\n",
    "\n",
    "# préparer les données\n",
    "fam_df = fam_df.sort_values('Code article', ascending=False)\n",
    "famindex = fam_df.reset_index()\n",
    "famindex['Code article'] = range(1,31)\n",
    "famindex.columns = ('nom', 'fam_id')\n",
    "\n",
    "# création d’une table des inserts\n",
    "inserts = []\n",
    "for i, r in famindex.iterrows():\n",
    "    inserts.append(f\"({r['fam_id']}, '{r['nom']}')\")\n",
    "\n",
    "# création du megastring de la requête\n",
    "sql = f'''\n",
    "INSERT INTO famille (fam_id, nom)\n",
    "VALUES\n",
    "{', '.join(inserts)}\n",
    "'''\n",
    "\n",
    "cur.execute(sql)\n",
    "db.commit()\n",
    "\n"
   ]
  },
  {
   "cell_type": "code",
   "execution_count": 7,
   "metadata": {},
   "outputs": [],
   "source": [
    "# INSERTS INTO CONDITIONNEMENTS\n",
    "# purge de la table\n",
    "cur.execute('TRUNCATE TABLE condit')\n",
    "\n",
    "# préparer les données\n",
    "cond_df = cond_df.sort_values('Code article', ascending=False)\n",
    "condindex = cond_df.reset_index()\n",
    "condindex['Code article'] = range(1,condindex.shape[0]+1)\n",
    "condindex.columns = ('nom', 'cond_id')\n",
    "\n",
    "# création d’une table des inserts\n",
    "inserts = []\n",
    "for i, r in condindex.iterrows():\n",
    "    inserts.append(f\"({r['cond_id']}, '{r['nom']}')\")\n",
    "\n",
    "# création du megastring de la requête\n",
    "sql = f'''\n",
    "INSERT INTO condit (cond_id, nom)\n",
    "VALUES\n",
    "{', '.join(inserts)}\n",
    "'''\n",
    "\n",
    "cur.execute(sql)\n",
    "db.commit()"
   ]
  },
  {
   "cell_type": "code",
   "execution_count": 8,
   "metadata": {},
   "outputs": [],
   "source": [
    "# remplir la table principale\n",
    "\n",
    "cur.execute('TRUNCATE TABLE produit')\n",
    "\n",
    "# création de dictionnaires pour remplacer les noms de familles et conditions par leurs identifiants respectifs\n",
    "fam_dic = famindex.to_dict('tight')\n",
    "cond_dic = condindex.to_dict('tight')\n",
    "repl_dict = {\n",
    "    \"FAMILLE ARTICLE\": dict(fam_dic['data']),\n",
    "    \"CONDITION\": dict(cond_dic['data'])\n",
    "}\n",
    "#boucle de remplacement\n",
    "main_df = prod_df.copy()\n",
    "for k,v in repl_dict.items() : {\n",
    "    main_df[k].replace(v, inplace = True)\n",
    "}\n",
    "    \n",
    "main_df.columns = ['code_art', 'libelle', 'fam_id', 'cond_id', 'prix']\n",
    "\n",
    "inserts = []\n",
    "for i, r in main_df.iterrows():\n",
    "    tup = []\n",
    "    tup.append(0)\n",
    "    tup.append(r['fam_id'])\n",
    "    tup.append(r['cond_id'])\n",
    "    tup.append(r['code_art'])\n",
    "    tup.append(r['libelle'])\n",
    "    tup.append(float(r['prix'].replace(\",\",\".\")))\n",
    "    tup = tuple(tup)\n",
    "    inserts.append(tup)\n",
    "\n",
    "sql = '''\n",
    "INSERT INTO produit (prod_id, fam_id, cond_id, code_art, libelle, prix)\n",
    "VALUES (%s, %s, %s, %s, %s, %s)\n",
    "'''\n",
    "\n",
    "cur.executemany(sql, inserts)\n",
    "db.commit()\n"
   ]
  },
  {
   "cell_type": "code",
   "execution_count": 9,
   "metadata": {},
   "outputs": [
    {
     "data": {
      "text/plain": [
       "True"
      ]
     },
     "execution_count": 9,
     "metadata": {},
     "output_type": "execute_result"
    }
   ],
   "source": [
    "# editer les tables pour y spécifier l’existance de clef étrangères\n",
    "\n",
    "# sql = '''\n",
    "# ALTER TABLE produit\n",
    "# DROP FOREIGN KEY produit_ibfk_1\n",
    "# '''\n",
    "# cur.execute(sql)\n",
    "\n",
    "# sql = '''\n",
    "# ALTER TABLE produit\n",
    "# DROP FOREIGN KEY produit_ibfk_2\n",
    "# '''\n",
    "# cur.execute(sql)\n",
    "\n",
    "sql = '''\n",
    "ALTER TABLE produit\n",
    "ADD CONSTRAINT FOREIGN KEY (fam_id)\n",
    "REFERENCES famille(fam_id)\n",
    "ON UPDATE CASCADE\n",
    "ON DELETE CASCADE;\n",
    "'''\n",
    "cur.execute(sql)\n",
    "\n",
    "sql = '''\n",
    "ALTER TABLE produit\n",
    "ADD CONSTRAINT FOREIGN KEY (cond_id)\n",
    "REFERENCES condit(cond_id)\n",
    "ON UPDATE CASCADE\n",
    "ON DELETE CASCADE;\n",
    "'''\n",
    "cur.execute(sql)\n",
    "\n",
    "cur.close()"
   ]
  }
 ],
 "metadata": {
  "kernelspec": {
   "display_name": "base",
   "language": "python",
   "name": "python3"
  },
  "language_info": {
   "codemirror_mode": {
    "name": "ipython",
    "version": 3
   },
   "file_extension": ".py",
   "mimetype": "text/x-python",
   "name": "python",
   "nbconvert_exporter": "python",
   "pygments_lexer": "ipython3",
   "version": "3.11.5"
  },
  "orig_nbformat": 4
 },
 "nbformat": 4,
 "nbformat_minor": 2
}
