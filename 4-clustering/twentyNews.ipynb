{
 "cells": [
  {
   "cell_type": "code",
   "execution_count": 177,
   "metadata": {},
   "outputs": [
    {
     "name": "stdout",
     "output_type": "stream",
     "text": [
      "                 group_names  msg_count\n",
      "0                alt.atheism        480\n",
      "1              comp.graphics        584\n",
      "2    comp.os.ms-windows.misc        591\n",
      "3   comp.sys.ibm.pc.hardware        590\n",
      "4      comp.sys.mac.hardware        578\n",
      "5             comp.windows.x        593\n",
      "6               misc.forsale        585\n",
      "7                  rec.autos        594\n",
      "8            rec.motorcycles        598\n",
      "9         rec.sport.baseball        597\n",
      "10          rec.sport.hockey        600\n",
      "11                 sci.crypt        595\n",
      "12           sci.electronics        591\n",
      "13                   sci.med        594\n",
      "14                 sci.space        593\n",
      "15    soc.religion.christian        599\n",
      "16        talk.politics.guns        546\n",
      "17     talk.politics.mideast        564\n",
      "18        talk.politics.misc        465\n",
      "19        talk.religion.misc        377\n",
      "11314\n"
     ]
    }
   ],
   "source": [
    "import pandas as pd\n",
    "import numpy as np\n",
    "import matplotlib.pyplot as plt\n",
    "\n",
    "from IPython.display import display, HTML\n",
    "\n",
    "from sklearn.datasets import fetch_20newsgroups \n",
    "\n",
    "newsgroup = fetch_20newsgroups()\n",
    "\n",
    "# les messages\n",
    "messages = newsgroup['data']\n",
    "\n",
    "# répartition des messages\n",
    "solution = pd.Series(newsgroup['target'])\n",
    "Ydf = pd.DataFrame(solution.value_counts().sort_index(), columns=['msg_count'])\n",
    "Ydf.insert(0, 'group_names', newsgroup['target_names'])\n",
    "\n",
    "print(Ydf)\n",
    "print(len(messages))"
   ]
  },
  {
   "cell_type": "code",
   "execution_count": 197,
   "metadata": {},
   "outputs": [],
   "source": [
    "# fonction qui va séparer les données de chaque message\n",
    "def format_message(str):\n",
    "\n",
    "    lines = str.split('\\n')\n",
    "\n",
    "# 1. GET HEADERS\n",
    "    headers = {}\n",
    "    message_index = 0\n",
    "    last_header = ''\n",
    "    for i,l in enumerate(lines) :\n",
    "        # Détetcter le premier saut de ligne qui represente le début du message\n",
    "        if l == '' :\n",
    "            message_index = i\n",
    "            break\n",
    "        \n",
    "        head = l.split(':',1)\n",
    "        # gestion des exceptions\n",
    "        if len(head) < 2 :\n",
    "            # aucune entête\n",
    "            if last_header == '' :\n",
    "                if 'TRASH' not in headers :  headers['TRASH'] = ''\n",
    "                headers['TRASH'] += (head[0])\n",
    "            # entête multi-ligne\n",
    "            else : \n",
    "                headers[last_header] += (head[0])\n",
    "        # cas normal\n",
    "        else :\n",
    "            last_header = head[0]\n",
    "            headers[head[0]] = head[1][1:]\n",
    "\n",
    "# 2. GET MESSAGE\n",
    "    message = '\\n'.join(lines[message_index:])\n",
    "\n",
    "    return {'headers': headers, 'message': message}"
   ]
  },
  {
   "cell_type": "code",
   "execution_count": 198,
   "metadata": {},
   "outputs": [
    {
     "name": "stdout",
     "output_type": "stream",
     "text": [
      "TRASH :  cs.utexas.edu!uunet!olivea!sgigate!sgiblab!adagio.panasonic.com!nntp-server.caltech.edu!keith\n",
      "Subject : Re: <Political Atheists?\n",
      "From : keith@cco.caltech.edu (Keith Allan Schneider) <930401.112329.0u1.rusnews.w165w@mantis.co.uk> <11710@vice.ICO.TEK.COM>\n",
      "Organization : California Institute of Technology, Pasadena\n",
      "NNTP-Posting-Host : lloyd.caltech.edu\n",
      "Lines : 17\n"
     ]
    }
   ],
   "source": [
    "for k,v in format_message(messages[690])['headers'].items():\n",
    "    print(k,':',v)"
   ]
  },
  {
   "cell_type": "code",
   "execution_count": 199,
   "metadata": {},
   "outputs": [
    {
     "name": "stdout",
     "output_type": "stream",
     "text": [
      "119\n",
      "41\n"
     ]
    }
   ],
   "source": [
    "from pprint import pprint\n",
    "\n",
    "# Faire la liste de tous les headers pour voir haha\n",
    "df_head = pd.DataFrame()\n",
    "headers_list = {}\n",
    "\n",
    "for i, msg in enumerate(messages):\n",
    "    headers = format_message(msg)['headers']\n",
    "    for header in headers.keys():\n",
    "        if header not in headers_list:\n",
    "            headers_list[header] = 1\n",
    "        else:\n",
    "            headers_list[header] += 1\n",
    "\n",
    "print(len(headers_list))\n",
    "\n",
    "# gardons seulement les entêtes qui sont présents au moins 10 fois\n",
    "main_head = dict(filter(lambda a: True if a[1] > 10 else False, headers_list.items()))\n",
    "\n",
    "print(len(main_head))\n"
   ]
  }
 ],
 "metadata": {
  "kernelspec": {
   "display_name": "base",
   "language": "python",
   "name": "python3"
  },
  "language_info": {
   "codemirror_mode": {
    "name": "ipython",
    "version": 3
   },
   "file_extension": ".py",
   "mimetype": "text/x-python",
   "name": "python",
   "nbconvert_exporter": "python",
   "pygments_lexer": "ipython3",
   "version": "3.11.4"
  }
 },
 "nbformat": 4,
 "nbformat_minor": 2
}
